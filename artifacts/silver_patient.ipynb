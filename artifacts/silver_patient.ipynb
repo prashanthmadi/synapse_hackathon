{
  "nbformat": 4,
  "nbformat_minor": 2,
  "cells": [
    {
      "cell_type": "code",
      "execution_count": 1,
      "outputs": [],
      "metadata": {},
      "source": [
        "bronze_location = \"abfss://bronze@prsynapselab.dfs.core.windows.net/\"\r\n",
        "write_mode=\"overwrite\"\r\n",
        ""
      ]
    },
    {
      "cell_type": "code",
      "execution_count": 2,
      "outputs": [],
      "metadata": {
        "jupyter": {
          "source_hidden": false,
          "outputs_hidden": false
        },
        "nteract": {
          "transient": {
            "deleting": false
          }
        }
      },
      "source": [
        "patientSchema = spark.read.json(bronze_location+\"reference_data/000047ca-00c7-492b-bf65-740805144cd2/Patient.ndjson\").schema\r\n",
        "patient_df = spark.read.schema(patientSchema).json(bronze_location+\"reference_data/*/*.ndjson\")"
      ]
    },
    {
      "cell_type": "code",
      "execution_count": 3,
      "outputs": [],
      "metadata": {
        "jupyter": {
          "source_hidden": false,
          "outputs_hidden": false
        },
        "nteract": {
          "transient": {
            "deleting": false
          }
        }
      },
      "source": [
        "patient_df.printSchema()"
      ]
    },
    {
      "cell_type": "code",
      "execution_count": 4,
      "outputs": [],
      "metadata": {
        "jupyter": {
          "source_hidden": false,
          "outputs_hidden": false
        },
        "nteract": {
          "transient": {
            "deleting": false
          }
        },
        "collapsed": false
      },
      "source": [
        "display(patient_df)"
      ]
    },
    {
      "cell_type": "code",
      "execution_count": 5,
      "outputs": [],
      "metadata": {
        "jupyter": {
          "source_hidden": false,
          "outputs_hidden": false
        },
        "nteract": {
          "transient": {
            "deleting": false
          }
        }
      },
      "source": [
        "patient_df_selected = patient_df.select(\"id\",\"birthDate\",\"deceasedDateTime\",\"gender\",\"text\",\"multipleBirthBoolean\",\"multipleBirthInteger\",\"resourceType\",\"text.div\",\"text.status\",\"identifier\",\"address\") \\\r\n",
        "                                        .toDF(*(\"patient_id\",\"birthDate\",\"deceasedDateTime\",\"gender\",\"text\",\"multipleBirthBoolean\",\"multipleBirthInteger\",\"resourceType\",\"div\",\"status\",\"identifier\",\"address\"))"
      ]
    },
    {
      "cell_type": "code",
      "execution_count": 6,
      "outputs": [],
      "metadata": {
        "jupyter": {
          "source_hidden": false,
          "outputs_hidden": false
        },
        "nteract": {
          "transient": {
            "deleting": false
          }
        }
      },
      "source": [
        "patient_df_selected.createOrReplaceTempView(\"patient_df_selected\")"
      ]
    },
    {
      "cell_type": "code",
      "execution_count": 7,
      "outputs": [],
      "metadata": {
        "jupyter": {
          "source_hidden": false,
          "outputs_hidden": false
        },
        "nteract": {
          "transient": {
            "deleting": false
          }
        },
        "microsoft": {
          "language": "scala"
        }
      },
      "source": [
        "%%spark\r\n",
        "import org.apache.spark.sql.types.{StructType,ArrayType}\r\n",
        "import org.apache.spark.sql.DataFrame\r\n",
        "import org.apache.spark.sql.Column\r\n",
        "import org.apache.spark.sql.functions.col\r\n",
        "import org.apache.spark.sql.functions.explode_outer\r\n",
        "\r\n",
        "def flattenDataFrame(df: DataFrame): DataFrame = {\r\n",
        "  val fields = df.schema.fields\r\n",
        "  val fieldNames = fields.map(x => x.name)\r\n",
        "\r\n",
        "  for (i <- fields.indices) {\r\n",
        "    val field = fields(i)\r\n",
        "    val fieldType = field.dataType\r\n",
        "    val fieldName = field.name\r\n",
        "    fieldType match {\r\n",
        "      case _: ArrayType =>\r\n",
        "        val fieldNamesExcludingArray = fieldNames.filter(_ != fieldName)\r\n",
        "        val fieldNamesAndExplode = fieldNamesExcludingArray ++ Array(\r\n",
        "          s\"explode_outer($fieldName) as $fieldName\"\r\n",
        "        )\r\n",
        "        val explodedDf = df.selectExpr(fieldNamesAndExplode: _*)\r\n",
        "        return flattenDataFrame(explodedDf)\r\n",
        "      case structType: StructType =>\r\n",
        "        val childFieldNames =\r\n",
        "          structType.fieldNames.map(childname => fieldName + \".\" + childname)\r\n",
        "        val newFieldNames = fieldNames.filter(_ != fieldName) ++ childFieldNames\r\n",
        "        import org.apache.spark.sql.functions.col\r\n",
        "\r\n",
        "        val renamedCols =\r\n",
        "          newFieldNames.map { x =>\r\n",
        "            col(x.toString).as(x.toString.replace(\".\", \"_\"))\r\n",
        "          }\r\n",
        "\r\n",
        "        val explodedDf = df.select(renamedCols: _*)\r\n",
        "        return flattenDataFrame(explodedDf)\r\n",
        "      case _ =>\r\n",
        "    }\r\n",
        "  }\r\n",
        "\r\n",
        "  df\r\n",
        "}"
      ]
    },
    {
      "cell_type": "markdown",
      "metadata": {
        "nteract": {
          "transient": {
            "deleting": false
          }
        }
      },
      "source": [
        "## Creating Patient Identifier Table"
      ]
    },
    {
      "cell_type": "code",
      "execution_count": 8,
      "outputs": [],
      "metadata": {
        "jupyter": {
          "source_hidden": false,
          "outputs_hidden": false
        },
        "nteract": {
          "transient": {
            "deleting": false
          }
        },
        "microsoft": {
          "language": "scala"
        }
      },
      "source": [
        "%%spark\r\n",
        "val patient_identifier_df = spark.sql(\"select * from patient_df_selected\").drop(\"address\");\r\n",
        ""
      ]
    },
    {
      "cell_type": "code",
      "execution_count": 9,
      "outputs": [],
      "metadata": {
        "jupyter": {
          "source_hidden": false,
          "outputs_hidden": false
        },
        "nteract": {
          "transient": {
            "deleting": false
          }
        },
        "microsoft": {
          "language": "scala"
        }
      },
      "source": [
        "%%spark\r\n",
        "val patient_identifier_df_flattened = flattenDataFrame(patient_identifier_df)"
      ]
    },
    {
      "cell_type": "code",
      "execution_count": 10,
      "outputs": [],
      "metadata": {
        "jupyter": {
          "source_hidden": false,
          "outputs_hidden": false
        },
        "nteract": {
          "transient": {
            "deleting": false
          }
        },
        "microsoft": {
          "language": "scala"
        },
        "collapsed": false
      },
      "source": [
        "%%spark\r\n",
        "display(patient_identifier_df_flattened)"
      ]
    },
    {
      "cell_type": "code",
      "execution_count": 11,
      "outputs": [],
      "metadata": {
        "jupyter": {
          "source_hidden": false,
          "outputs_hidden": false
        },
        "nteract": {
          "transient": {
            "deleting": false
          }
        },
        "microsoft": {
          "language": "scala"
        }
      },
      "source": [
        "%%spark\r\n",
        "val silver_location = \"abfss://silver@prsynapselab.dfs.core.windows.net/\"\r\n",
        "patient_identifier_df_flattened.coalesce(50).write.format(\"delta\").option(\"path\", silver_location+\"PatientIdentifier\").saveAsTable(\"fhir.PatientIdentifier\")\r\n",
        ""
      ]
    },
    {
      "cell_type": "markdown",
      "metadata": {
        "nteract": {
          "transient": {
            "deleting": false
          }
        }
      },
      "source": [
        "## Creating Patient Address Table"
      ]
    },
    {
      "cell_type": "code",
      "execution_count": 12,
      "outputs": [],
      "metadata": {
        "jupyter": {
          "source_hidden": false,
          "outputs_hidden": false
        },
        "nteract": {
          "transient": {
            "deleting": false
          }
        },
        "microsoft": {
          "language": "scala"
        }
      },
      "source": [
        "%%spark\r\n",
        "val patient_address_df = spark.sql(\"select patient_id, address from patient_df_selected\")"
      ]
    },
    {
      "cell_type": "code",
      "execution_count": 13,
      "outputs": [],
      "metadata": {
        "jupyter": {
          "source_hidden": false,
          "outputs_hidden": false
        },
        "nteract": {
          "transient": {
            "deleting": false
          }
        },
        "microsoft": {
          "language": "scala"
        },
        "collapsed": false
      },
      "source": [
        "%%spark\r\n",
        "display(patient_address_df)"
      ]
    },
    {
      "cell_type": "code",
      "execution_count": 14,
      "outputs": [],
      "metadata": {
        "jupyter": {
          "source_hidden": false,
          "outputs_hidden": false
        },
        "nteract": {
          "transient": {
            "deleting": false
          }
        },
        "microsoft": {
          "language": "scala"
        }
      },
      "source": [
        "%%spark\r\n",
        "val patient_address_df_flattened = flattenDataFrame(patient_address_df)"
      ]
    },
    {
      "cell_type": "code",
      "execution_count": 15,
      "outputs": [],
      "metadata": {
        "jupyter": {
          "source_hidden": false,
          "outputs_hidden": false
        },
        "nteract": {
          "transient": {
            "deleting": false
          }
        },
        "microsoft": {
          "language": "scala"
        }
      },
      "source": [
        "%%spark\r\n",
        "val silver_location = \"abfss://silver@prsynapselab.dfs.core.windows.net/\"\r\n",
        "\r\n",
        "patient_address_df_flattened.coalesce(50).write.format(\"delta\").option(\"path\", silver_location+\"PatientAddress\").saveAsTable(\"fhir.PatientAddress\")"
      ]
    }
  ],
  "metadata": {
    "description": null,
    "save_output": true,
    "kernelspec": {
      "name": "synapse_pyspark",
      "display_name": "Synapse PySpark"
    },
    "language_info": {
      "name": "python"
    }
  }
}