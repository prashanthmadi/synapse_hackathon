{
  "nbformat": 4,
  "nbformat_minor": 2,
  "cells": [
    {
      "cell_type": "code",
      "execution_count": 1,
      "outputs": [],
      "metadata": {},
      "source": [
        "bronze_location = \"abfss://bronze@prsynapselab.dfs.core.windows.net/\"\r\n",
        "write_mode=\"overwrite\"\r\n",
        ""
      ]
    },
    {
      "cell_type": "code",
      "execution_count": 2,
      "outputs": [],
      "metadata": {
        "jupyter": {
          "source_hidden": false,
          "outputs_hidden": false
        },
        "nteract": {
          "transient": {
            "deleting": false
          }
        }
      },
      "source": [
        "claimSchema = spark.read.json(bronze_location+\"historic_data/claim/year=2016/part-00000-6650129e-31bc-4bc3-9443-0c6529438b3d.c000.json\").schema\r\n",
        "claim_df = spark.read.schema(claimSchema).json(bronze_location+\"historic_data/claim/*/*.json\")"
      ]
    },
    {
      "cell_type": "code",
      "execution_count": 3,
      "outputs": [],
      "metadata": {
        "jupyter": {
          "source_hidden": false,
          "outputs_hidden": false
        },
        "nteract": {
          "transient": {
            "deleting": false
          }
        }
      },
      "source": [
        "claim_df.printSchema()"
      ]
    },
    {
      "cell_type": "code",
      "execution_count": 4,
      "outputs": [],
      "metadata": {
        "jupyter": {
          "source_hidden": false,
          "outputs_hidden": false
        },
        "nteract": {
          "transient": {
            "deleting": false
          }
        },
        "collapsed": false
      },
      "source": [
        "display(claim_df)"
      ]
    },
    {
      "cell_type": "code",
      "execution_count": 5,
      "outputs": [],
      "metadata": {
        "jupyter": {
          "source_hidden": false,
          "outputs_hidden": false
        },
        "nteract": {
          "transient": {
            "deleting": false
          }
        }
      },
      "source": [
        "claim_df_selected = claim_df.select(\"id\",\"resourceType\",\"status\",\"billablePeriod\",\"created\",\"patient\",\"prescription\",\"provider\",\"total\",\"use\",\"insurance\",\"diagnosis\",\"procedure\") \\\r\n",
        "                        .toDF(*(\"claim_id\",\"resourceType\",\"status\",\"billablePeriod\",\"created\",\"patient\",\"prescription\",\"provider\",\"total\",\"isuse\",\"insurance\",\"diagnosis\",\"procedure\"))"
      ]
    },
    {
      "cell_type": "code",
      "execution_count": 6,
      "outputs": [],
      "metadata": {
        "jupyter": {
          "source_hidden": false,
          "outputs_hidden": false
        },
        "nteract": {
          "transient": {
            "deleting": false
          }
        }
      },
      "source": [
        "claim_df_selected.createOrReplaceTempView(\"claim_df_selected\")"
      ]
    },
    {
      "cell_type": "code",
      "execution_count": 7,
      "outputs": [],
      "metadata": {
        "jupyter": {
          "source_hidden": false,
          "outputs_hidden": false
        },
        "nteract": {
          "transient": {
            "deleting": false
          }
        },
        "microsoft": {
          "language": "scala"
        }
      },
      "source": [
        "%%spark\r\n",
        "import org.apache.spark.sql.types.{StructType,ArrayType}\r\n",
        "import org.apache.spark.sql.DataFrame\r\n",
        "import org.apache.spark.sql.Column\r\n",
        "import org.apache.spark.sql.functions.col\r\n",
        "import org.apache.spark.sql.functions.explode_outer\r\n",
        "\r\n",
        "def flattenDataFrame(df: DataFrame): DataFrame = {\r\n",
        "  val fields = df.schema.fields\r\n",
        "  val fieldNames = fields.map(x => x.name)\r\n",
        "\r\n",
        "  for (i <- fields.indices) {\r\n",
        "    val field = fields(i)\r\n",
        "    val fieldType = field.dataType\r\n",
        "    val fieldName = field.name\r\n",
        "    fieldType match {\r\n",
        "      case _: ArrayType =>\r\n",
        "        val fieldNamesExcludingArray = fieldNames.filter(_ != fieldName)\r\n",
        "        val fieldNamesAndExplode = fieldNamesExcludingArray ++ Array(\r\n",
        "          s\"explode_outer($fieldName) as $fieldName\"\r\n",
        "        )\r\n",
        "        val explodedDf = df.selectExpr(fieldNamesAndExplode: _*)\r\n",
        "        return flattenDataFrame(explodedDf)\r\n",
        "      case structType: StructType =>\r\n",
        "        val childFieldNames =\r\n",
        "          structType.fieldNames.map(childname => fieldName + \".\" + childname)\r\n",
        "        val newFieldNames = fieldNames.filter(_ != fieldName) ++ childFieldNames\r\n",
        "        import org.apache.spark.sql.functions.col\r\n",
        "\r\n",
        "        val renamedCols =\r\n",
        "          newFieldNames.map { x =>\r\n",
        "            col(x.toString).as(x.toString.replace(\".\", \"_\"))\r\n",
        "          }\r\n",
        "\r\n",
        "        val explodedDf = df.select(renamedCols: _*)\r\n",
        "        return flattenDataFrame(explodedDf)\r\n",
        "      case _ =>\r\n",
        "    }\r\n",
        "  }\r\n",
        "\r\n",
        "  df\r\n",
        "}"
      ]
    },
    {
      "cell_type": "markdown",
      "metadata": {
        "nteract": {
          "transient": {
            "deleting": false
          }
        }
      },
      "source": [
        "## Creating Claim Main Table"
      ]
    },
    {
      "cell_type": "code",
      "execution_count": 8,
      "outputs": [],
      "metadata": {
        "jupyter": {
          "source_hidden": false,
          "outputs_hidden": false
        },
        "nteract": {
          "transient": {
            "deleting": false
          }
        }
      },
      "source": [
        "claim_df_selected.printSchema()"
      ]
    },
    {
      "cell_type": "code",
      "execution_count": 9,
      "outputs": [],
      "metadata": {
        "jupyter": {
          "source_hidden": false,
          "outputs_hidden": false
        },
        "nteract": {
          "transient": {
            "deleting": false
          }
        },
        "microsoft": {
          "language": "scala"
        }
      },
      "source": [
        "%%spark\r\n",
        "val claim_main_df = spark.sql(\"select * from claim_df_selected\").drop(\"insurance\",\"diagnosis\",\"procedure\");\r\n",
        ""
      ]
    },
    {
      "cell_type": "code",
      "execution_count": 10,
      "outputs": [],
      "metadata": {
        "jupyter": {
          "source_hidden": false,
          "outputs_hidden": false
        },
        "nteract": {
          "transient": {
            "deleting": false
          }
        },
        "microsoft": {
          "language": "scala"
        }
      },
      "source": [
        "%%spark\r\n",
        "val claim_main_df_flattened = flattenDataFrame(claim_main_df)"
      ]
    },
    {
      "cell_type": "code",
      "execution_count": 11,
      "outputs": [],
      "metadata": {
        "jupyter": {
          "source_hidden": false,
          "outputs_hidden": false
        },
        "nteract": {
          "transient": {
            "deleting": false
          }
        },
        "microsoft": {
          "language": "scala"
        },
        "collapsed": false
      },
      "source": [
        "%%spark\r\n",
        "display(claim_main_df_flattened)"
      ]
    },
    {
      "cell_type": "code",
      "execution_count": 12,
      "outputs": [],
      "metadata": {
        "jupyter": {
          "source_hidden": false,
          "outputs_hidden": false
        },
        "nteract": {
          "transient": {
            "deleting": false
          }
        },
        "microsoft": {
          "language": "scala"
        }
      },
      "source": [
        "%%spark\r\n",
        "val silver_location = \"abfss://silver@prsynapselab.dfs.core.windows.net/\"\r\n",
        "\r\n",
        "claim_main_df_flattened.coalesce(200).write.format(\"delta\").option(\"path\", silver_location+\"claim_main\").saveAsTable(\"fhir.claim_main_hash\")\r\n",
        ""
      ]
    },
    {
      "cell_type": "markdown",
      "metadata": {
        "nteract": {
          "transient": {
            "deleting": false
          }
        }
      },
      "source": [
        "## Creating Claim Insurance Table"
      ]
    },
    {
      "cell_type": "code",
      "execution_count": 13,
      "outputs": [],
      "metadata": {
        "jupyter": {
          "source_hidden": false,
          "outputs_hidden": false
        },
        "nteract": {
          "transient": {
            "deleting": false
          }
        },
        "microsoft": {
          "language": "scala"
        },
        "collapsed": false
      },
      "source": [
        "%%spark\r\n",
        "val claim_insurance_df = spark.sql(\"select claim_id, insurance from claim_df_selected\")\r\n",
        "val claim_insurance_df_flattened = flattenDataFrame(claim_insurance_df)\r\n",
        "display(claim_insurance_df_flattened)"
      ]
    },
    {
      "cell_type": "code",
      "execution_count": 14,
      "outputs": [],
      "metadata": {
        "jupyter": {
          "source_hidden": false,
          "outputs_hidden": false
        },
        "nteract": {
          "transient": {
            "deleting": false
          }
        },
        "microsoft": {
          "language": "scala"
        }
      },
      "source": [
        "%%spark\r\n",
        "val silver_location = \"abfss://silver@prsynapselab.dfs.core.windows.net/\"\r\n",
        "\r\n",
        "claim_insurance_df_flattened.coalesce(200).write.format(\"delta\").option(\"path\", silver_location+\"claim_insurance\").saveAsTable(\"fhir.claim_insurance_hash\")"
      ]
    },
    {
      "cell_type": "markdown",
      "metadata": {
        "nteract": {
          "transient": {
            "deleting": false
          }
        }
      },
      "source": [
        "## Creating Claim Diagnosis Table"
      ]
    },
    {
      "cell_type": "code",
      "execution_count": 15,
      "outputs": [],
      "metadata": {
        "jupyter": {
          "source_hidden": false,
          "outputs_hidden": false
        },
        "nteract": {
          "transient": {
            "deleting": false
          }
        },
        "microsoft": {
          "language": "scala"
        },
        "collapsed": false
      },
      "source": [
        "%%spark\r\n",
        "val claim_diagnosis_df = spark.sql(\"select claim_id, diagnosis from claim_df_selected\")\r\n",
        "val claim_diagnosis_df_flattened = flattenDataFrame(claim_diagnosis_df)\r\n",
        "display(claim_diagnosis_df_flattened)"
      ]
    },
    {
      "cell_type": "code",
      "execution_count": 16,
      "outputs": [],
      "metadata": {
        "jupyter": {
          "source_hidden": false,
          "outputs_hidden": false
        },
        "nteract": {
          "transient": {
            "deleting": false
          }
        },
        "microsoft": {
          "language": "scala"
        }
      },
      "source": [
        "%%spark\r\n",
        "val silver_location = \"abfss://silver@prsynapselab.dfs.core.windows.net/\"\r\n",
        "\r\n",
        "claim_diagnosis_df_flattened.coalesce(200).write.format(\"delta\").option(\"path\", silver_location+\"claim_diagnosis\").saveAsTable(\"fhir.claim_diagnosis_hash\")"
      ]
    },
    {
      "cell_type": "markdown",
      "metadata": {
        "nteract": {
          "transient": {
            "deleting": false
          }
        }
      },
      "source": [
        "## Creating Claim procedure Table"
      ]
    },
    {
      "cell_type": "code",
      "execution_count": 17,
      "outputs": [],
      "metadata": {
        "jupyter": {
          "source_hidden": false,
          "outputs_hidden": false
        },
        "nteract": {
          "transient": {
            "deleting": false
          }
        },
        "microsoft": {
          "language": "scala"
        },
        "collapsed": false
      },
      "source": [
        "%%spark\r\n",
        "val claim_procedure_df = spark.sql(\"select claim_id, procedure from claim_df_selected\")\r\n",
        "val claim_procedure_df_flattened = flattenDataFrame(claim_procedure_df)\r\n",
        "display(claim_procedure_df_flattened)"
      ]
    },
    {
      "cell_type": "code",
      "execution_count": 18,
      "outputs": [],
      "metadata": {
        "jupyter": {
          "source_hidden": false,
          "outputs_hidden": false
        },
        "nteract": {
          "transient": {
            "deleting": false
          }
        },
        "microsoft": {
          "language": "scala"
        }
      },
      "source": [
        "%%spark\r\n",
        "val silver_location = \"abfss://silver@prsynapselab.dfs.core.windows.net/\"\r\n",
        "\r\n",
        "claim_procedure_df_flattened.coalesce(200).write.format(\"delta\").option(\"path\", silver_location+\"claim_procedure\").saveAsTable(\"fhir.claim_procedure_hash\")"
      ]
    }
  ],
  "metadata": {
    "description": null,
    "save_output": true,
    "kernelspec": {
      "name": "synapse_pyspark",
      "display_name": "Synapse PySpark"
    },
    "language_info": {
      "name": "python"
    }
  }
}